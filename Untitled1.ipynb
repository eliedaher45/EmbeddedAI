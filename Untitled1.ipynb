{
 "cells": [
  {
   "cell_type": "code",
   "execution_count": 3,
   "id": "8849efe1",
   "metadata": {},
   "outputs": [
    {
     "name": "stderr",
     "output_type": "stream",
     "text": [
      "2022-09-25 20:54:05.927945: I tensorflow/core/platform/cpu_feature_guard.cc:193] This TensorFlow binary is optimized with oneAPI Deep Neural Network Library (oneDNN) to use the following CPU instructions in performance-critical operations:  AVX2 FMA\n",
      "To enable them in other operations, rebuild TensorFlow with the appropriate compiler flags.\n"
     ]
    }
   ],
   "source": [
    "import sys, os, array, time\n",
    "import numpy as np\n",
    "import matplotlib.pyplot as plt\n",
    "import IPython\n",
    "\n",
    "import tensorflow as tf\n",
    "from tensorflow import keras\n",
    "from tensorflow.keras import layers, models"
   ]
  },
  {
   "cell_type": "code",
   "execution_count": 4,
   "id": "80ce5cab",
   "metadata": {},
   "outputs": [],
   "source": [
    "os.environ[\"CUDA_DEVICE_ORDER\"]=\"PCI_BUS_ID\"\n",
    "os.environ[\"CUDA_VISIBLE_DEVICES\"]=\"1\""
   ]
  },
  {
   "cell_type": "code",
   "execution_count": 5,
   "id": "b2c83e2b",
   "metadata": {},
   "outputs": [],
   "source": [
    "class timer:\n",
    "    def __init__(self, name=None):\n",
    "        self.name = name\n",
    "        self.T_start = -1\n",
    "        self.T_stop  = -1\n",
    "\n",
    "    def tic(self):\n",
    "        self.T_start = time.time()\n",
    "\n",
    "    def toc(self):\n",
    "        self.T_stop = time.time()\n",
    "\n",
    "    def res(self):\n",
    "        if (self.T_start == -1) or (self.T_stop == -1):\n",
    "            print(\"Error: Measurement cannot be done\")\n",
    "        else:\n",
    "            return str(self.T_stop - self.T_start)"
   ]
  },
  {
   "cell_type": "code",
   "execution_count": 6,
   "id": "994aaf1e",
   "metadata": {},
   "outputs": [],
   "source": [
    "def plot_history(history):\n",
    "    plt.plot(history.history['loss'])\n",
    "    plt.plot(history.history['val_loss'])\n",
    "    plt.title('model Loss')\n",
    "    plt.ylabel('Loss')\n",
    "    plt.xlabel('epoch')\n",
    "    plt.legend(['train', 'val'], loc='upper left')\n",
    "    plt.show()\n",
    "\n",
    "    plt.plot(history.history['acc'])\n",
    "    plt.plot(history.history['val_acc'])\n",
    "    plt.title('model accuracy')\n",
    "    plt.ylabel('accuracy')\n",
    "    plt.xlabel('epoch')\n",
    "    plt.legend(['train', 'val'], loc='upper left')\n",
    "    plt.show()"
   ]
  },
  {
   "cell_type": "code",
   "execution_count": 7,
   "id": "a319027a",
   "metadata": {},
   "outputs": [],
   "source": [
    "def load_data(path):\n",
    "    with np.load(path) as f:\n",
    "        x_train, y_train = f['x_train'], f['y_train']\n",
    "        x_test, y_test = f['x_test'], f['y_test']\n",
    "        return (x_train, y_train), (x_test, y_test)"
   ]
  },
  {
   "cell_type": "code",
   "execution_count": null,
   "id": "3a82f802",
   "metadata": {},
   "outputs": [],
   "source": [
    "def build_model(data):\n",
    "\n",
    "        # Small CNN recognition\n",
    "        model = models.Sequential()\n",
    "        \n",
    "        # Dense layer\n",
    "        model.add(layers.Conv2D(2, (3, 3), padding='same', activation='relu', input_shape=data.input_shape))\n",
    "        model.add(layers.MaxPooling2D((2, 2), padding='valid'))\n",
    "        model.add(layers.Flatten())\n",
    "        \n",
    "        # Dense layer\n",
    "        model.add(layers.Dense(16, activation='relu'))\n",
    "        \n",
    "        # Output layer\n",
    "        model.add(layers.Dense(10, activation='softmax'))\n",
    "                \n",
    "        return model"
   ]
  },
  {
   "cell_type": "code",
   "execution_count": null,
   "id": "ecd9994e",
   "metadata": {},
   "outputs": [],
   "source": []
  },
  {
   "cell_type": "code",
   "execution_count": null,
   "id": "c330ce9b",
   "metadata": {},
   "outputs": [],
   "source": []
  },
  {
   "cell_type": "code",
   "execution_count": null,
   "id": "91863631",
   "metadata": {},
   "outputs": [],
   "source": []
  }
 ],
 "metadata": {
  "kernelspec": {
   "display_name": "Python 3 (ipykernel)",
   "language": "python",
   "name": "python3"
  },
  "language_info": {
   "codemirror_mode": {
    "name": "ipython",
    "version": 3
   },
   "file_extension": ".py",
   "mimetype": "text/x-python",
   "name": "python",
   "nbconvert_exporter": "python",
   "pygments_lexer": "ipython3",
   "version": "3.10.4"
  }
 },
 "nbformat": 4,
 "nbformat_minor": 5
}
