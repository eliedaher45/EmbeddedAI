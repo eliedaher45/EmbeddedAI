{
 "cells": [
  {
   "cell_type": "markdown",
   "metadata": {
    "id": "W5Ya3NLY-der"
   },
   "source": [
    "## Preparing environment\n"
   ]
  },
  {
   "cell_type": "code",
   "execution_count": 1,
   "metadata": {},
   "outputs": [
    {
     "name": "stdout",
     "output_type": "stream",
     "text": [
      "6\n"
     ]
    }
   ],
   "source": []
  },
  {
   "cell_type": "code",
   "execution_count": null,
   "metadata": {},
   "outputs": [],
   "source": []
  },
  {
   "cell_type": "markdown",
   "metadata": {
    "id": "Jm8iUwJtTuOX"
   },
   "source": [
    "Mounting the shared drive"
   ]
  },
  {
   "cell_type": "code",
   "execution_count": null,
   "metadata": {
    "id": "HJ-GcOElTsEO"
   },
   "outputs": [],
   "source": []
  },
  {
   "cell_type": "markdown",
   "metadata": {
    "id": "Q_OHOtXRR_xz"
   },
   "source": [
    "## Move to proper directory\n",
    "Move to correct dir: based on where you duplicated the environment. if you connect colab with the main drive folder you don't have to change it.\n",
    "\n",
    "Make sure in Bottle_classification dir, there is the image folder Saline_bottle_original_size"
   ]
  },
  {
   "cell_type": "code",
   "execution_count": null,
   "metadata": {
    "id": "DfRHAeZOPwIw"
   },
   "outputs": [],
   "source": []
  },
  {
   "cell_type": "markdown",
   "metadata": {
    "id": "uQh3UZHgIEWY"
   },
   "source": [
    "# Saline Bottle Image Dataset preparation\n",
    "## Import Libraries"
   ]
  },
  {
   "cell_type": "code",
   "execution_count": 2,
   "metadata": {
    "id": "hNyw9KeNIEWa"
   },
   "outputs": [
    {
     "name": "stderr",
     "output_type": "stream",
     "text": [
      "2022-09-25 18:17:44.934866: I tensorflow/core/platform/cpu_feature_guard.cc:193] This TensorFlow binary is optimized with oneAPI Deep Neural Network Library (oneDNN) to use the following CPU instructions in performance-critical operations:  AVX2 FMA\n",
      "To enable them in other operations, rebuild TensorFlow with the appropriate compiler flags.\n"
     ]
    },
    {
     "ename": "ImportError",
     "evalue": "cannot import name 'array_to_img' from 'keras.preprocessing.image' (/Library/Frameworks/Python.framework/Versions/3.10/lib/python3.10/site-packages/keras/preprocessing/image.py)",
     "output_type": "error",
     "traceback": [
      "\u001b[0;31m---------------------------------------------------------------------------\u001b[0m",
      "\u001b[0;31mImportError\u001b[0m                               Traceback (most recent call last)",
      "Cell \u001b[0;32mIn [2], line 12\u001b[0m\n\u001b[1;32m      9\u001b[0m \u001b[38;5;66;03m# scikit-learn Library for machine learning and associated facilities\u001b[39;00m\n\u001b[1;32m     10\u001b[0m \u001b[38;5;28;01mfrom\u001b[39;00m \u001b[38;5;21;01msklearn\u001b[39;00m\u001b[38;5;21;01m.\u001b[39;00m\u001b[38;5;21;01mmodel_selection\u001b[39;00m \u001b[38;5;28;01mimport\u001b[39;00m train_test_split\n\u001b[0;32m---> 12\u001b[0m \u001b[38;5;28;01mfrom\u001b[39;00m \u001b[38;5;21;01mkeras\u001b[39;00m\u001b[38;5;21;01m.\u001b[39;00m\u001b[38;5;21;01mpreprocessing\u001b[39;00m\u001b[38;5;21;01m.\u001b[39;00m\u001b[38;5;21;01mimage\u001b[39;00m \u001b[38;5;28;01mimport\u001b[39;00m ImageDataGenerator, array_to_img, img_to_array, load_img\n",
      "\u001b[0;31mImportError\u001b[0m: cannot import name 'array_to_img' from 'keras.preprocessing.image' (/Library/Frameworks/Python.framework/Versions/3.10/lib/python3.10/site-packages/keras/preprocessing/image.py)"
     ]
    }
   ],
   "source": [
    "from __future__ import print_function\n",
    "# Python Imaging Library (PIL) adds support for opening, manipulating, and saving different image file formats.\n",
    "from PIL import Image as pil_image\n",
    "# Library for Image visualization\n",
    "from IPython.display import Image as disp_image\n",
    "import os\n",
    "# Libary for manipulation of multi-dimensional data\n",
    "import numpy as np\n",
    "# scikit-learn Library for machine learning and associated facilities\n",
    "from sklearn.model_selection import train_test_split\n",
    "\n",
    "from keras.preprocessing.image import ImageDataGenerator, array_to_img, img_to_array, load_img\n"
   ]
  },
  {
   "cell_type": "markdown",
   "metadata": {
    "id": "gT4xPNpQIEWj"
   },
   "source": [
    "## Set path where origianl Dataset is stored "
   ]
  },
  {
   "cell_type": "code",
   "execution_count": 5,
   "metadata": {
    "id": "t77R4zBdIEWk"
   },
   "outputs": [],
   "source": [
    "PATH=\"./Saline_bottle_original_size/\""
   ]
  },
  {
   "cell_type": "markdown",
   "metadata": {
    "id": "qwGzarR8IEWo"
   },
   "source": [
    "## Define a dictionary with list of labels"
   ]
  },
  {
   "cell_type": "code",
   "execution_count": 3,
   "metadata": {
    "id": "XABJf0JcIEWp"
   },
   "outputs": [
    {
     "name": "stdout",
     "output_type": "stream",
     "text": [
      "{'sal_data_100': 0, 'sal_data_50': 1, 'sal_data_80': 2, 'sal_data_empty': 3}\n"
     ]
    }
   ],
   "source": [
    "# This sections returns a dictionary with {key=label: value= class_number}\n",
    "# Input to this function is list of labels needed for classification task.\n",
    "# 100 means 100% bottle fill\n",
    "# 80 means 80% bottle fill\n",
    "# 50 means 50% bottle fill\n",
    "\n",
    "folders=['sal_data_100','sal_data_50','sal_data_80','sal_data_empty']\n",
    "list_input = ['sal_data_100','sal_data_50','sal_data_80','sal_data_empty']\n",
    "\n",
    "def create_classes(list_input):\n",
    "    classes_dict = {}\n",
    "    count_dict = {}\n",
    "    for i in range(len(folders)):\n",
    "        key_word= folders[i]\n",
    "        if key_word in list_input:\n",
    "            #get the index of the list:\n",
    "            index = list_input.index(key_word)\n",
    "            classes_dict[key_word] = index\n",
    "        else:\n",
    "            count_dict[key_word] = 0\n",
    "            classes_dict[key_word] = len(list_input)\n",
    "    return classes_dict, count_dict\n",
    "classes_dict, count_dict = create_classes(list_input)\n",
    "print(classes_dict)\n"
   ]
  },
  {
   "cell_type": "markdown",
   "metadata": {
    "id": "IobWMaKTIEWt"
   },
   "source": [
    "## Creating folder and subfolders (with labels) to store the resized data as per  labels"
   ]
  },
  {
   "cell_type": "markdown",
   "metadata": {
    "id": "jnEfX-sJVfHi"
   },
   "source": [
    "### For RGB color space"
   ]
  },
  {
   "cell_type": "code",
   "execution_count": 19,
   "metadata": {
    "id": "79AfYJaSVhXt"
   },
   "outputs": [
    {
     "name": "stdout",
     "output_type": "stream",
     "text": [
      "/Users/belhouariayoub/Documents/ISMIN3A/Embedded IA/PROJETBELHOUARIDAHER\n"
     ]
    }
   ],
   "source": [
    "resize_path= os.getcwd()\n",
    "print(resize_path)\n",
    "resize_path=os.path.join(resize_path,\"resize_sal_data_temp_del/\")"
   ]
  },
  {
   "cell_type": "code",
   "execution_count": 5,
   "metadata": {
    "id": "_3RJdESsIEWu"
   },
   "outputs": [
    {
     "name": "stdout",
     "output_type": "stream",
     "text": [
      "/Users/belhouariayoub/Documents/ISMIN3A/Embedded IA/PROJETBELHOUARIDAHER/data_label/\n"
     ]
    },
    {
     "ename": "NameError",
     "evalue": "name 'resize_path' is not defined",
     "output_type": "error",
     "traceback": [
      "\u001b[0;31m---------------------------------------------------------------------------\u001b[0m",
      "\u001b[0;31mNameError\u001b[0m                                 Traceback (most recent call last)",
      "Cell \u001b[0;32mIn [5], line 9\u001b[0m\n\u001b[1;32m      6\u001b[0m     \u001b[38;5;28mprint\u001b[39m(\u001b[38;5;124m\"\u001b[39m\u001b[38;5;124mCreating the directory\u001b[39m\u001b[38;5;124m\"\u001b[39m)\n\u001b[1;32m      7\u001b[0m     os\u001b[38;5;241m.\u001b[39mmakedirs(data_label_path)\n\u001b[0;32m----> 9\u001b[0m \u001b[38;5;28;01mif\u001b[39;00m \u001b[38;5;129;01mnot\u001b[39;00m os\u001b[38;5;241m.\u001b[39mpath\u001b[38;5;241m.\u001b[39misdir(\u001b[43mresize_path\u001b[49m):\n\u001b[1;32m     10\u001b[0m     \u001b[38;5;28mprint\u001b[39m(\u001b[38;5;124m\"\u001b[39m\u001b[38;5;124mCreating the directory\u001b[39m\u001b[38;5;124m\"\u001b[39m)\n\u001b[1;32m     11\u001b[0m     os\u001b[38;5;241m.\u001b[39mmakedirs(resize_path)\n",
      "\u001b[0;31mNameError\u001b[0m: name 'resize_path' is not defined"
     ]
    }
   ],
   "source": [
    "data_label_path = os.getcwd()\n",
    "data_label_path=os.path.join(data_label_path,\"data_label/\")\n",
    "print(data_label_path)\n",
    "\n",
    "if not os.path.isdir(data_label_path):\n",
    "    print(\"Creating the directory\")\n",
    "    os.makedirs(data_label_path)\n",
    "\n",
    "if not os.path.isdir(resize_path):\n",
    "    print(\"Creating the directory\")\n",
    "    os.makedirs(resize_path)\n",
    "    \n",
    "for label in folders:\n",
    "    label_dir=os.path.join(resize_path,label)\n",
    "    if not os.path.isdir(label_dir):\n",
    "        os.makedirs(label_dir)"
   ]
  },
  {
   "cell_type": "markdown",
   "metadata": {
    "id": "fQSZ_5SFIEWy"
   },
   "source": [
    "## Print path of the resized data"
   ]
  },
  {
   "cell_type": "code",
   "execution_count": null,
   "metadata": {
    "id": "2LuvsA4bIEWz"
   },
   "outputs": [],
   "source": [
    "print(resize_path)"
   ]
  },
  {
   "cell_type": "markdown",
   "metadata": {
    "id": "Y8pNXlJIIEW3"
   },
   "source": [
    "## Forming a file of Label/Data"
   ]
  },
  {
   "cell_type": "markdown",
   "metadata": {
    "id": "hf0hd0CeUZIC"
   },
   "source": [
    "### For RGB color space"
   ]
  },
  {
   "cell_type": "code",
   "execution_count": null,
   "metadata": {
    "id": "8ZcffAwDIEW4"
   },
   "outputs": [],
   "source": [
    "img_dir=os.listdir(PATH)\n",
    "data_file = open(\"data_label/saline_data_label.txt\",'w')\n",
    "for dir in img_dir:\n",
    "    img_path=PATH + \"/\" + dir\n",
    "    for img in os.listdir(img_path):\n",
    "        print(dir+'/'+img)\n",
    "        data_file.write(dir+'/'+img+\"\\n\")\n",
    "\n",
    "data_file.close() "
   ]
  },
  {
   "cell_type": "markdown",
   "metadata": {
    "id": "xfTVBSML8hwe"
   },
   "source": [
    "## Reshape\n",
    "You can change the color space, the format of images (RGB, YCrCb) and use the negative of images\n",
    "\n",
    "Default: RGB with negative\n",
    "if you want YCrCb or normal image uncomment the correct line indicated in the if block"
   ]
  },
  {
   "cell_type": "markdown",
   "metadata": {
    "id": "SnwsgaouU0Un"
   },
   "source": [
    "### For RGB color space\n",
    "Choose resolution"
   ]
  },
  {
   "cell_type": "code",
   "execution_count": null,
   "metadata": {
    "id": "RbQao9W5mV0f"
   },
   "outputs": [],
   "source": [
    "res = 64"
   ]
  },
  {
   "cell_type": "code",
   "execution_count": null,
   "metadata": {
    "id": "SU2EF5AOIEW-"
   },
   "outputs": [],
   "source": [
    "from PIL import Image\n",
    "import PIL.ImageOps  \n",
    "import cv2\n",
    "\n",
    "# open the label/data file\n",
    "f = open(\"data_label/saline_data_label.txt\", \"r\")\n",
    "# form list from the given file\n",
    "lines = f.readlines()\n",
    "X = []\n",
    "Y = []\n",
    "# Mention the resize image shape\n",
    "size=(res,res)\n",
    "\n",
    "resize_loc_path=resize_path\n",
    "\n",
    "for line in lines:\n",
    "  try:\n",
    "    # remove the \\n \n",
    "    line = line.strip('\\n')\n",
    "    # separate label and data\n",
    "    label, file_name = line.split(\"/\")\n",
    "    # folders contains all the required labels\n",
    "    if label in folders:\n",
    "       file_path = PATH + label + \"/\" + file_name\n",
    "       # open the original size image\n",
    "       img=pil_image.open(file_path)\n",
    "\n",
    "       #to use negative on images \n",
    "       inverted_img = PIL.ImageOps.invert(img)\n",
    "\n",
    "       #to convert to YCrCb\n",
    "       #imgYCC = cv2.cvtColor(img, cv2.COLOR_BGR2YCR_CB) # or inverted_img \n",
    "\n",
    "       # resize the original image to the size mentioned\n",
    "       img_reshape=inverted_img.resize(size) ## choose: img, imgYCC, inverted_img\n",
    "       # print(img_reshape.format, img_reshape.size, img_reshape.mode)\n",
    "       # Location of the resized image as per the label\n",
    "       resize_loc= resize_loc_path + label + \"/\" + file_name\n",
    "       # checks if the resized is does not exist already \n",
    "       if file_name not in resize_loc_path + label + \"/\":\n",
    "          img_reshape.save(resize_loc)\n",
    "       # converting the image object to \n",
    "       np_im = np.array(img_reshape)\n",
    "       class_number=classes_dict[label] \n",
    "       X.append(np_im)\n",
    "       Y.append(class_number)\n",
    "       \n",
    "\n",
    "  except Exception as e:\n",
    "           print(str(e))\n",
    "    \n",
    "X = np.array(X)\n",
    "Y = np.array(Y)\n",
    "print(Y.shape)\n"
   ]
  },
  {
   "cell_type": "markdown",
   "metadata": {
    "id": "NAQrG7esIEXC"
   },
   "source": [
    "## Forming augmented dataset"
   ]
  },
  {
   "cell_type": "markdown",
   "metadata": {
    "id": "Emx__XT_6GF_"
   },
   "source": [
    "### Warning: execute agumentation can generate misalignment between colab and drive data"
   ]
  },
  {
   "cell_type": "markdown",
   "metadata": {
    "id": "qdEzP6vEXN-C"
   },
   "source": [
    "### For RGB color space"
   ]
  },
  {
   "cell_type": "code",
   "execution_count": null,
   "metadata": {
    "id": "nM-wTOslIEXD"
   },
   "outputs": [],
   "source": [
    "augmented_path= os.getcwd()\n",
    "print(augmented_path)\n",
    "augmented_path=os.path.join(augmented_path,\"resize_sal_data_augmented/\")\n",
    "if not os.path.isdir(augmented_path):\n",
    "    print(\"Creating the directory\")\n",
    "    os.makedirs(augmented_path)\n",
    "    \n",
    "for label in folders:\n",
    "    label_dir=os.path.join(augmented_path,label)\n",
    "    if not os.path.isdir(label_dir):\n",
    "        os.makedirs(label_dir)"
   ]
  },
  {
   "cell_type": "markdown",
   "metadata": {
    "id": "iBZir_SSIEXH"
   },
   "source": [
    "## Print path of the augmented data"
   ]
  },
  {
   "cell_type": "code",
   "execution_count": null,
   "metadata": {
    "id": "GwCW5uVsIEXH"
   },
   "outputs": [],
   "source": [
    "print(augmented_path)"
   ]
  },
  {
   "cell_type": "markdown",
   "metadata": {
    "id": "Q0AvoG9XIEXL"
   },
   "source": [
    "## Achieve augmentation"
   ]
  },
  {
   "cell_type": "markdown",
   "metadata": {
    "id": "kRLaSyon62nz"
   },
   "source": [
    "### WARNING: this procedure requires lots of time writing data and if you are using Drive to store images"
   ]
  },
  {
   "cell_type": "markdown",
   "metadata": {
    "id": "rCU0duoJmkar"
   },
   "source": [
    "Choose resolution\n"
   ]
  },
  {
   "cell_type": "code",
   "execution_count": null,
   "metadata": {
    "id": "RgSSvtHRmn6C"
   },
   "outputs": [],
   "source": [
    "res = 64"
   ]
  },
  {
   "cell_type": "markdown",
   "metadata": {
    "id": "gVRvn4gEoV8_"
   },
   "source": [
    "You can change the color space, the format of images (RGB, YCrCb) and use the negative of images\n",
    "\n",
    "Default: RGB with negative\n",
    "if you want YCrCb or normal image uncomment the correct line indicated in the if block"
   ]
  },
  {
   "cell_type": "markdown",
   "metadata": {
    "id": "zIyW5hNRXdDS"
   },
   "source": [
    "### For RGB color space"
   ]
  },
  {
   "cell_type": "code",
   "execution_count": null,
   "metadata": {
    "id": "7JDJesTTIEXN"
   },
   "outputs": [],
   "source": [
    "# open the label/data file\n",
    "f = open(\"data_label/saline_data_label.txt\", \"r\")\n",
    "# form list from the given file\n",
    "lines = f.readlines()\n",
    "X = []\n",
    "Y = []\n",
    "# Mention the resize image shape\n",
    "size=(res,res)\n",
    "\n",
    "augmented_loc_path=augmented_path\n",
    "\n",
    "datagen = ImageDataGenerator(\n",
    "        rotation_range=40,\n",
    "        width_shift_range=0.2,\n",
    "        height_shift_range=0.2,\n",
    "        shear_range=0.2,\n",
    "        zoom_range=0.2,\n",
    "        horizontal_flip=True,\n",
    "        fill_mode='nearest')\n",
    "\n",
    "for line in lines:\n",
    "  try:\n",
    "    # remove the \\n \n",
    "    line = line.strip('\\n')\n",
    "    # separate label and data\n",
    "    label, file_name = line.split(\"/\")\n",
    "    # folders contains all the required labels\n",
    "    if label in folders:\n",
    "       file_path = PATH + label + \"/\" + file_name\n",
    "       # open the original size image\n",
    "       img=pil_image.open(file_path)\n",
    "       \n",
    "       #to use inverted images \n",
    "       inverted_img = PIL.ImageOps.invert(img)\n",
    "\n",
    "       #to convert to YCrCb\n",
    "       #imgYCC = cv2.cvtColor(img, cv2.COLOR_BGR2YCR_CB) # or inverted_img \n",
    "\n",
    "       # resize the original image to the size mentioned\n",
    "       img_reshape=inverted_img.resize(size) ## choose: img, imgYCC, inverted_img\n",
    "       #print(img_reshape.format, img_reshape.size, img_reshape.mode)\n",
    "       # Location of the resized image as per the label\n",
    "       augmented_loc= augmented_loc_path + label + \"/\" + file_name\n",
    "       aug_dir=augmented_loc_path + label\n",
    "        \n",
    "       x = img_to_array(img_reshape)  # this is a Numpy array with shape (3, 32, 32) if size = 32,32\n",
    "       x = x.reshape((1,) + x.shape)  # this is a Numpy array with shape (1, 3, 32, 32) if size = 32,32\n",
    "        \n",
    "       # checks if the resized is does not exist already \n",
    "       img_reshape.save(augmented_loc)\n",
    "       # the .flow() command below generates batches of randomly transformed images\n",
    "       # and saves the results to the directory\n",
    "       i = 0\n",
    "       for batch in datagen.flow(x, batch_size=1,\n",
    "                                 save_to_dir=aug_dir, save_prefix='IMG_AUG', save_format='jpg'):\n",
    "           i += 1\n",
    "           if i > 20:\n",
    "               break  # otherwise the generator would loop indefinitely\n",
    "        \n",
    "        \n",
    "       # converting the image object to \n",
    "       np_im = np.array(img_reshape)\n",
    "       class_number=classes_dict[label] \n",
    "       X.append(np_im)\n",
    "       Y.append(class_number)\n",
    "       \n",
    "\n",
    "  except Exception as e:\n",
    "           print(str(e))\n",
    "    \n",
    "X = np.array(X)\n",
    "Y = np.array(Y)\n",
    "print(Y.shape)"
   ]
  }
 ],
 "metadata": {
  "colab": {
   "collapsed_sections": [],
   "name": "Saline_bottle_dataset_preprocessing_augmentation.ipynb",
   "provenance": [],
   "toc_visible": true
  },
  "kernelspec": {
   "display_name": "Python 3 (ipykernel)",
   "language": "python",
   "name": "python3"
  },
  "language_info": {
   "codemirror_mode": {
    "name": "ipython",
    "version": 3
   },
   "file_extension": ".py",
   "mimetype": "text/x-python",
   "name": "python",
   "nbconvert_exporter": "python",
   "pygments_lexer": "ipython3",
   "version": "3.10.4"
  }
 },
 "nbformat": 4,
 "nbformat_minor": 1
}
